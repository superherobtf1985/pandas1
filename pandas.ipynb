{
  "nbformat": 4,
  "nbformat_minor": 0,
  "metadata": {
    "colab": {
      "name": "pandas.ipynb",
      "provenance": [],
      "toc_visible": true,
      "authorship_tag": "ABX9TyP5UQ8gNxO8iVQKpfRCtIrL",
      "include_colab_link": true
    },
    "kernelspec": {
      "name": "python3",
      "display_name": "Python 3"
    }
  },
  "cells": [
    {
      "cell_type": "markdown",
      "metadata": {
        "id": "view-in-github",
        "colab_type": "text"
      },
      "source": [
        "<a href=\"https://colab.research.google.com/github/superherobtf1985/pandas1/blob/master/pandas.ipynb\" target=\"_parent\"><img src=\"https://colab.research.google.com/assets/colab-badge.svg\" alt=\"Open In Colab\"/></a>"
      ]
    },
    {
      "cell_type": "markdown",
      "metadata": {
        "id": "ly0Z9C8xG_zx",
        "colab_type": "text"
      },
      "source": [
        "# Pandasの基本1"
      ]
    },
    {
      "cell_type": "code",
      "metadata": {
        "id": "J_9LhgjC01CP",
        "colab_type": "code",
        "colab": {}
      },
      "source": [
        "import pandas as pd"
      ],
      "execution_count": 0,
      "outputs": []
    },
    {
      "cell_type": "markdown",
      "metadata": {
        "id": "uD2yOkAw2KIB",
        "colab_type": "text"
      },
      "source": [
        "## Series型"
      ]
    },
    {
      "cell_type": "code",
      "metadata": {
        "id": "jH9IKNpY08LP",
        "colab_type": "code",
        "colab": {}
      },
      "source": [
        "s = pd.Series([\"New York\", \"Tokyo\", \"Paris\", \"London\"])"
      ],
      "execution_count": 0,
      "outputs": []
    },
    {
      "cell_type": "markdown",
      "metadata": {
        "id": "aQL2O-pj2OL4",
        "colab_type": "text"
      },
      "source": [
        "## DataFrame型"
      ]
    },
    {
      "cell_type": "code",
      "metadata": {
        "id": "X49vMkcP1ReW",
        "colab_type": "code",
        "colab": {}
      },
      "source": [
        "df = pd.DataFrame({\n",
        "       \"city\": [\"New York\", \"Tokyo\", \"Paris\", \"London\"],\n",
        "       \"country\": [\"USA\", \"Japan\", \"France\", \"UK\"],\n",
        "       \"city_population\": [8623000, 9273000, 2141000, 8136000],\n",
        "       \"country_population\": [327200000, 126800000, 66990000, 66040000]\n",
        "})"
      ],
      "execution_count": 0,
      "outputs": []
    },
    {
      "cell_type": "markdown",
      "metadata": {
        "id": "ZNdofsuW2nEm",
        "colab_type": "text"
      },
      "source": [
        "1つの列を取り出すとSeries型になっていることが確認できる"
      ]
    },
    {
      "cell_type": "code",
      "metadata": {
        "id": "TTzSYHo32uk0",
        "colab_type": "code",
        "outputId": "fdd9f2eb-cf63-4ded-e2dd-be2f545248db",
        "colab": {
          "base_uri": "https://localhost:8080/",
          "height": 34
        }
      },
      "source": [
        "type(df[\"country\"])"
      ],
      "execution_count": 5,
      "outputs": [
        {
          "output_type": "execute_result",
          "data": {
            "text/plain": [
              "pandas.core.series.Series"
            ]
          },
          "metadata": {
            "tags": []
          },
          "execution_count": 5
        }
      ]
    },
    {
      "cell_type": "markdown",
      "metadata": {
        "id": "H41mLWOL3W1s",
        "colab_type": "text"
      },
      "source": [
        "新たなカラムを追加することもできる"
      ]
    },
    {
      "cell_type": "code",
      "metadata": {
        "id": "LiAA2Yg83bdn",
        "colab_type": "code",
        "outputId": "eeed3266-d52d-4b4a-9177-5eb2ae553237",
        "colab": {
          "base_uri": "https://localhost:8080/",
          "height": 173
        }
      },
      "source": [
        "df[\"country_GDP\"] = [20494050000000, 4971929000000, 2828644000000, 2775252000000]\n",
        "df"
      ],
      "execution_count": 6,
      "outputs": [
        {
          "output_type": "execute_result",
          "data": {
            "text/html": [
              "<div>\n",
              "<style scoped>\n",
              "    .dataframe tbody tr th:only-of-type {\n",
              "        vertical-align: middle;\n",
              "    }\n",
              "\n",
              "    .dataframe tbody tr th {\n",
              "        vertical-align: top;\n",
              "    }\n",
              "\n",
              "    .dataframe thead th {\n",
              "        text-align: right;\n",
              "    }\n",
              "</style>\n",
              "<table border=\"1\" class=\"dataframe\">\n",
              "  <thead>\n",
              "    <tr style=\"text-align: right;\">\n",
              "      <th></th>\n",
              "      <th>city</th>\n",
              "      <th>country</th>\n",
              "      <th>city_population</th>\n",
              "      <th>country_population</th>\n",
              "      <th>country_GDP</th>\n",
              "    </tr>\n",
              "  </thead>\n",
              "  <tbody>\n",
              "    <tr>\n",
              "      <th>0</th>\n",
              "      <td>New York</td>\n",
              "      <td>USA</td>\n",
              "      <td>8623000</td>\n",
              "      <td>327200000</td>\n",
              "      <td>20494050000000</td>\n",
              "    </tr>\n",
              "    <tr>\n",
              "      <th>1</th>\n",
              "      <td>Tokyo</td>\n",
              "      <td>Japan</td>\n",
              "      <td>9273000</td>\n",
              "      <td>126800000</td>\n",
              "      <td>4971929000000</td>\n",
              "    </tr>\n",
              "    <tr>\n",
              "      <th>2</th>\n",
              "      <td>Paris</td>\n",
              "      <td>France</td>\n",
              "      <td>2141000</td>\n",
              "      <td>66990000</td>\n",
              "      <td>2828644000000</td>\n",
              "    </tr>\n",
              "    <tr>\n",
              "      <th>3</th>\n",
              "      <td>London</td>\n",
              "      <td>UK</td>\n",
              "      <td>8136000</td>\n",
              "      <td>66040000</td>\n",
              "      <td>2775252000000</td>\n",
              "    </tr>\n",
              "  </tbody>\n",
              "</table>\n",
              "</div>"
            ],
            "text/plain": [
              "       city country  city_population  country_population     country_GDP\n",
              "0  New York     USA          8623000           327200000  20494050000000\n",
              "1     Tokyo   Japan          9273000           126800000   4971929000000\n",
              "2     Paris  France          2141000            66990000   2828644000000\n",
              "3    London      UK          8136000            66040000   2775252000000"
            ]
          },
          "metadata": {
            "tags": []
          },
          "execution_count": 6
        }
      ]
    },
    {
      "cell_type": "markdown",
      "metadata": {
        "id": "G1EDOOVSBKiz",
        "colab_type": "text"
      },
      "source": [
        "## 理解度チェック"
      ]
    },
    {
      "cell_type": "code",
      "metadata": {
        "id": "rY9AG8zwBMgP",
        "colab_type": "code",
        "outputId": "fd29b758-a421-48b0-d68a-f6519f25b18c",
        "colab": {
          "base_uri": "https://localhost:8080/",
          "height": 266
        }
      },
      "source": [
        "school_df = pd.read_csv(\"school.csv\")\n",
        "school_df"
      ],
      "execution_count": 8,
      "outputs": [
        {
          "output_type": "execute_result",
          "data": {
            "text/html": [
              "<div>\n",
              "<style scoped>\n",
              "    .dataframe tbody tr th:only-of-type {\n",
              "        vertical-align: middle;\n",
              "    }\n",
              "\n",
              "    .dataframe tbody tr th {\n",
              "        vertical-align: top;\n",
              "    }\n",
              "\n",
              "    .dataframe thead th {\n",
              "        text-align: right;\n",
              "    }\n",
              "</style>\n",
              "<table border=\"1\" class=\"dataframe\">\n",
              "  <thead>\n",
              "    <tr style=\"text-align: right;\">\n",
              "      <th></th>\n",
              "      <th>name</th>\n",
              "      <th>age</th>\n",
              "      <th>sex</th>\n",
              "      <th>nationality</th>\n",
              "      <th>height</th>\n",
              "    </tr>\n",
              "  </thead>\n",
              "  <tbody>\n",
              "    <tr>\n",
              "      <th>0</th>\n",
              "      <td>Jack</td>\n",
              "      <td>7</td>\n",
              "      <td>male</td>\n",
              "      <td>England</td>\n",
              "      <td>130</td>\n",
              "    </tr>\n",
              "    <tr>\n",
              "      <th>1</th>\n",
              "      <td>John</td>\n",
              "      <td>10</td>\n",
              "      <td>male</td>\n",
              "      <td>United States</td>\n",
              "      <td>139</td>\n",
              "    </tr>\n",
              "    <tr>\n",
              "      <th>2</th>\n",
              "      <td>Alice</td>\n",
              "      <td>12</td>\n",
              "      <td>female</td>\n",
              "      <td>England</td>\n",
              "      <td>148</td>\n",
              "    </tr>\n",
              "    <tr>\n",
              "      <th>3</th>\n",
              "      <td>Bob</td>\n",
              "      <td>7</td>\n",
              "      <td>male</td>\n",
              "      <td>Australia</td>\n",
              "      <td>127</td>\n",
              "    </tr>\n",
              "    <tr>\n",
              "      <th>4</th>\n",
              "      <td>Dominic</td>\n",
              "      <td>8</td>\n",
              "      <td>male</td>\n",
              "      <td>Germany</td>\n",
              "      <td>131</td>\n",
              "    </tr>\n",
              "    <tr>\n",
              "      <th>5</th>\n",
              "      <td>Akiko</td>\n",
              "      <td>11</td>\n",
              "      <td>female</td>\n",
              "      <td>Japan</td>\n",
              "      <td>142</td>\n",
              "    </tr>\n",
              "    <tr>\n",
              "      <th>6</th>\n",
              "      <td>Carly</td>\n",
              "      <td>6</td>\n",
              "      <td>female</td>\n",
              "      <td>Canada</td>\n",
              "      <td>121</td>\n",
              "    </tr>\n",
              "  </tbody>\n",
              "</table>\n",
              "</div>"
            ],
            "text/plain": [
              "      name  age     sex    nationality  height\n",
              "0     Jack    7    male        England     130\n",
              "1     John   10    male  United States     139\n",
              "2    Alice   12  female        England     148\n",
              "3      Bob    7    male      Australia     127\n",
              "4  Dominic    8    male        Germany     131\n",
              "5    Akiko   11  female          Japan     142\n",
              "6    Carly    6  female         Canada     121"
            ]
          },
          "metadata": {
            "tags": []
          },
          "execution_count": 8
        }
      ]
    },
    {
      "cell_type": "markdown",
      "metadata": {
        "id": "TkQMNaoQE74P",
        "colab_type": "text"
      },
      "source": [
        "ageの平均値を出す（describe）"
      ]
    },
    {
      "cell_type": "code",
      "metadata": {
        "id": "iEJL4QqpE7V8",
        "colab_type": "code",
        "outputId": "9f53a6ee-9b13-4235-af84-0a66b00e7dbf",
        "colab": {
          "base_uri": "https://localhost:8080/",
          "height": 174
        }
      },
      "source": [
        "school_df[\"age\"].describe()"
      ],
      "execution_count": 9,
      "outputs": [
        {
          "output_type": "execute_result",
          "data": {
            "text/plain": [
              "count     7.000000\n",
              "mean      8.714286\n",
              "std       2.288689\n",
              "min       6.000000\n",
              "25%       7.000000\n",
              "50%       8.000000\n",
              "75%      10.500000\n",
              "max      12.000000\n",
              "Name: age, dtype: float64"
            ]
          },
          "metadata": {
            "tags": []
          },
          "execution_count": 9
        }
      ]
    },
    {
      "cell_type": "markdown",
      "metadata": {
        "id": "3n-pFV6vHFvC",
        "colab_type": "text"
      },
      "source": [
        "カラムを追加してファイル出力する"
      ]
    },
    {
      "cell_type": "code",
      "metadata": {
        "id": "wiufGgdcHHbf",
        "colab_type": "code",
        "colab": {}
      },
      "source": [
        "school_df[\"weight\"] = [29, 31, 33, 28, 29, 31, 27]\n",
        "school_df.to_csv(\"school_add_weight.csv\")"
      ],
      "execution_count": 0,
      "outputs": []
    }
  ]
}